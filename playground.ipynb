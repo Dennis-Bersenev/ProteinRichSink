{
 "cells": [
  {
   "cell_type": "code",
   "execution_count": 31,
   "metadata": {},
   "outputs": [],
   "source": [
    "import scanpy as sc\n",
    "import torch\n",
    "import anndata as ad\n",
    "from torch.utils.data import DataLoader, TensorDataset\n",
    "import numpy as np"
   ]
  },
  {
   "cell_type": "code",
   "execution_count": 2,
   "metadata": {},
   "outputs": [],
   "source": [
    "# data_full = 'data/GSE194122_openproblems_neurips2021_cite_BMMC_processed.h5ad'\n",
    "# # Load the dataset into Scanpy using the backup_url argument\n",
    "# adata_full = sc.read_h5ad(data_full)\n",
    "# adata_full"
   ]
  },
  {
   "cell_type": "code",
   "execution_count": 3,
   "metadata": {},
   "outputs": [
    {
     "name": "stderr",
     "output_type": "stream",
     "text": [
      "/home/dennis/miniconda3/envs/compbio/lib/python3.10/site-packages/anndata/_core/anndata.py:1820: UserWarning: Variable names are not unique. To make them unique, call `.var_names_make_unique`.\n",
      "  utils.warn_names_duplicates(\"var\")\n"
     ]
    }
   ],
   "source": [
    "data_small = \"data/pbmc_10k_protein_v3_raw_feature_bc_matrix.h5\"\n",
    "adata_small = sc.read_10x_h5(data_small, genome=None, gex_only=False, backup_url=None)"
   ]
  },
  {
   "cell_type": "code",
   "execution_count": 5,
   "metadata": {},
   "outputs": [
    {
     "data": {
      "text/plain": [
       "AnnData object with n_obs × n_vars = 80773 × 15989\n",
       "    obs: 'n_counts'\n",
       "    var: 'gene_ids', 'feature_types', 'genome', 'pattern', 'read', 'sequence', 'n_counts'\n",
       "    layers: 'counts'"
      ]
     },
     "execution_count": 5,
     "metadata": {},
     "output_type": "execute_result"
    }
   ],
   "source": [
    "adata_small.var_names_make_unique()\n",
    "adata_small.layers[\"counts\"] = adata_small.X.copy()\n",
    "sc.pp.filter_genes(adata_small, min_counts=10) # number of times that RNA is present in the dataset\n",
    "sc.pp.filter_cells(adata_small, min_counts=100) # number of rna molecules in each cell\n",
    "adata_small"
   ]
  },
  {
   "cell_type": "code",
   "execution_count": 6,
   "metadata": {},
   "outputs": [
    {
     "data": {
      "text/plain": [
       "feature_types\n",
       "Gene Expression     15972\n",
       "Antibody Capture       17\n",
       "Name: count, dtype: int64"
      ]
     },
     "execution_count": 6,
     "metadata": {},
     "output_type": "execute_result"
    }
   ],
   "source": [
    "adata_small.var[\"feature_types\"].value_counts()\n",
    "# The number of unique genes/antibodies in the dataset."
   ]
  },
  {
   "cell_type": "code",
   "execution_count": 7,
   "metadata": {},
   "outputs": [],
   "source": [
    "protein = adata_small[:, adata_small.var[\"feature_types\"] == \"Antibody Capture\"].copy()\n",
    "rna = adata_small[:, adata_small.var[\"feature_types\"] == \"Gene Expression\"].copy()"
   ]
  },
  {
   "cell_type": "code",
   "execution_count": 8,
   "metadata": {},
   "outputs": [
    {
     "data": {
      "text/html": [
       "<div>\n",
       "<style scoped>\n",
       "    .dataframe tbody tr th:only-of-type {\n",
       "        vertical-align: middle;\n",
       "    }\n",
       "\n",
       "    .dataframe tbody tr th {\n",
       "        vertical-align: top;\n",
       "    }\n",
       "\n",
       "    .dataframe thead th {\n",
       "        text-align: right;\n",
       "    }\n",
       "</style>\n",
       "<table border=\"1\" class=\"dataframe\">\n",
       "  <thead>\n",
       "    <tr style=\"text-align: right;\">\n",
       "      <th></th>\n",
       "      <th>gene_ids</th>\n",
       "      <th>feature_types</th>\n",
       "      <th>genome</th>\n",
       "      <th>pattern</th>\n",
       "      <th>read</th>\n",
       "      <th>sequence</th>\n",
       "      <th>n_counts</th>\n",
       "    </tr>\n",
       "  </thead>\n",
       "  <tbody>\n",
       "    <tr>\n",
       "      <th>CD3_TotalSeqB</th>\n",
       "      <td>CD3</td>\n",
       "      <td>Antibody Capture</td>\n",
       "      <td></td>\n",
       "      <td>^NNNNNNNNNN(BC)NNNNNNNNN</td>\n",
       "      <td>R2</td>\n",
       "      <td>AACAAGACCCTTGAG</td>\n",
       "      <td>10826011.0</td>\n",
       "    </tr>\n",
       "    <tr>\n",
       "      <th>CD4_TotalSeqB</th>\n",
       "      <td>CD4</td>\n",
       "      <td>Antibody Capture</td>\n",
       "      <td></td>\n",
       "      <td>^NNNNNNNNNN(BC)NNNNNNNNN</td>\n",
       "      <td>R2</td>\n",
       "      <td>TACCCGTAATAGCGT</td>\n",
       "      <td>10043849.0</td>\n",
       "    </tr>\n",
       "    <tr>\n",
       "      <th>CD8a_TotalSeqB</th>\n",
       "      <td>CD8a</td>\n",
       "      <td>Antibody Capture</td>\n",
       "      <td></td>\n",
       "      <td>^NNNNNNNNNN(BC)NNNNNNNNN</td>\n",
       "      <td>R2</td>\n",
       "      <td>ATTGGCACTCAGATG</td>\n",
       "      <td>8009552.0</td>\n",
       "    </tr>\n",
       "    <tr>\n",
       "      <th>CD14_TotalSeqB</th>\n",
       "      <td>CD14</td>\n",
       "      <td>Antibody Capture</td>\n",
       "      <td></td>\n",
       "      <td>^NNNNNNNNNN(BC)NNNNNNNNN</td>\n",
       "      <td>R2</td>\n",
       "      <td>GAAAGTCAAAGCACT</td>\n",
       "      <td>4112917.0</td>\n",
       "    </tr>\n",
       "    <tr>\n",
       "      <th>CD15_TotalSeqB</th>\n",
       "      <td>CD15</td>\n",
       "      <td>Antibody Capture</td>\n",
       "      <td></td>\n",
       "      <td>^NNNNNNNNNN(BC)NNNNNNNNN</td>\n",
       "      <td>R2</td>\n",
       "      <td>ACGAATCAATCTGTG</td>\n",
       "      <td>8797653.0</td>\n",
       "    </tr>\n",
       "    <tr>\n",
       "      <th>CD16_TotalSeqB</th>\n",
       "      <td>CD16</td>\n",
       "      <td>Antibody Capture</td>\n",
       "      <td></td>\n",
       "      <td>^NNNNNNNNNN(BC)NNNNNNNNN</td>\n",
       "      <td>R2</td>\n",
       "      <td>GTCTTTGTCAGTGCA</td>\n",
       "      <td>9301829.0</td>\n",
       "    </tr>\n",
       "    <tr>\n",
       "      <th>CD56_TotalSeqB</th>\n",
       "      <td>CD56</td>\n",
       "      <td>Antibody Capture</td>\n",
       "      <td></td>\n",
       "      <td>^NNNNNNNNNN(BC)NNNNNNNNN</td>\n",
       "      <td>R2</td>\n",
       "      <td>GTTGTCCGACAATAC</td>\n",
       "      <td>1463992.0</td>\n",
       "    </tr>\n",
       "    <tr>\n",
       "      <th>CD19_TotalSeqB</th>\n",
       "      <td>CD19</td>\n",
       "      <td>Antibody Capture</td>\n",
       "      <td></td>\n",
       "      <td>^NNNNNNNNNN(BC)NNNNNNNNN</td>\n",
       "      <td>R2</td>\n",
       "      <td>TCAACGCTTGGCTAG</td>\n",
       "      <td>730998.0</td>\n",
       "    </tr>\n",
       "    <tr>\n",
       "      <th>CD25_TotalSeqB</th>\n",
       "      <td>CD25</td>\n",
       "      <td>Antibody Capture</td>\n",
       "      <td></td>\n",
       "      <td>^NNNNNNNNNN(BC)NNNNNNNNN</td>\n",
       "      <td>R2</td>\n",
       "      <td>GTGCATTCAACAGTA</td>\n",
       "      <td>743054.0</td>\n",
       "    </tr>\n",
       "    <tr>\n",
       "      <th>CD45RA_TotalSeqB</th>\n",
       "      <td>CD45RA</td>\n",
       "      <td>Antibody Capture</td>\n",
       "      <td></td>\n",
       "      <td>^NNNNNNNNNN(BC)NNNNNNNNN</td>\n",
       "      <td>R2</td>\n",
       "      <td>GATGAGAACAGGTTT</td>\n",
       "      <td>15976956.0</td>\n",
       "    </tr>\n",
       "    <tr>\n",
       "      <th>CD45RO_TotalSeqB</th>\n",
       "      <td>CD45RO</td>\n",
       "      <td>Antibody Capture</td>\n",
       "      <td></td>\n",
       "      <td>^NNNNNNNNNN(BC)NNNNNNNNN</td>\n",
       "      <td>R2</td>\n",
       "      <td>TGCATGTCATCGGTG</td>\n",
       "      <td>4076391.0</td>\n",
       "    </tr>\n",
       "    <tr>\n",
       "      <th>PD-1_TotalSeqB</th>\n",
       "      <td>PD-1</td>\n",
       "      <td>Antibody Capture</td>\n",
       "      <td></td>\n",
       "      <td>^NNNNNNNNNN(BC)NNNNNNNNN</td>\n",
       "      <td>R2</td>\n",
       "      <td>AAGTCGTGAGGCATG</td>\n",
       "      <td>1148951.0</td>\n",
       "    </tr>\n",
       "    <tr>\n",
       "      <th>TIGIT_TotalSeqB</th>\n",
       "      <td>TIGIT</td>\n",
       "      <td>Antibody Capture</td>\n",
       "      <td></td>\n",
       "      <td>^NNNNNNNNNN(BC)NNNNNNNNN</td>\n",
       "      <td>R2</td>\n",
       "      <td>TGAAGGCTCATTTGT</td>\n",
       "      <td>525618.0</td>\n",
       "    </tr>\n",
       "    <tr>\n",
       "      <th>CD127_TotalSeqB</th>\n",
       "      <td>CD127</td>\n",
       "      <td>Antibody Capture</td>\n",
       "      <td></td>\n",
       "      <td>^NNNNNNNNNN(BC)NNNNNNNNN</td>\n",
       "      <td>R2</td>\n",
       "      <td>ACATTGACGCAACTA</td>\n",
       "      <td>1248641.0</td>\n",
       "    </tr>\n",
       "    <tr>\n",
       "      <th>IgG2a_control_TotalSeqB</th>\n",
       "      <td>IgG2a</td>\n",
       "      <td>Antibody Capture</td>\n",
       "      <td></td>\n",
       "      <td>^NNNNNNNNNN(BC)NNNNNNNNN</td>\n",
       "      <td>R2</td>\n",
       "      <td>CTCTATTCAGACCAG</td>\n",
       "      <td>393620.0</td>\n",
       "    </tr>\n",
       "    <tr>\n",
       "      <th>IgG1_control_TotalSeqB</th>\n",
       "      <td>IgG1</td>\n",
       "      <td>Antibody Capture</td>\n",
       "      <td></td>\n",
       "      <td>^NNNNNNNNNN(BC)NNNNNNNNN</td>\n",
       "      <td>R2</td>\n",
       "      <td>ACTCACTGGAGTCTC</td>\n",
       "      <td>541268.0</td>\n",
       "    </tr>\n",
       "    <tr>\n",
       "      <th>IgG2b_control_TotalSeqB</th>\n",
       "      <td>IgG2b</td>\n",
       "      <td>Antibody Capture</td>\n",
       "      <td></td>\n",
       "      <td>^NNNNNNNNNN(BC)NNNNNNNNN</td>\n",
       "      <td>R2</td>\n",
       "      <td>ATCACATCGTTGCCA</td>\n",
       "      <td>237996.0</td>\n",
       "    </tr>\n",
       "  </tbody>\n",
       "</table>\n",
       "</div>"
      ],
      "text/plain": [
       "                        gene_ids     feature_types genome  \\\n",
       "CD3_TotalSeqB                CD3  Antibody Capture          \n",
       "CD4_TotalSeqB                CD4  Antibody Capture          \n",
       "CD8a_TotalSeqB              CD8a  Antibody Capture          \n",
       "CD14_TotalSeqB              CD14  Antibody Capture          \n",
       "CD15_TotalSeqB              CD15  Antibody Capture          \n",
       "CD16_TotalSeqB              CD16  Antibody Capture          \n",
       "CD56_TotalSeqB              CD56  Antibody Capture          \n",
       "CD19_TotalSeqB              CD19  Antibody Capture          \n",
       "CD25_TotalSeqB              CD25  Antibody Capture          \n",
       "CD45RA_TotalSeqB          CD45RA  Antibody Capture          \n",
       "CD45RO_TotalSeqB          CD45RO  Antibody Capture          \n",
       "PD-1_TotalSeqB              PD-1  Antibody Capture          \n",
       "TIGIT_TotalSeqB            TIGIT  Antibody Capture          \n",
       "CD127_TotalSeqB            CD127  Antibody Capture          \n",
       "IgG2a_control_TotalSeqB    IgG2a  Antibody Capture          \n",
       "IgG1_control_TotalSeqB      IgG1  Antibody Capture          \n",
       "IgG2b_control_TotalSeqB    IgG2b  Antibody Capture          \n",
       "\n",
       "                                          pattern read         sequence  \\\n",
       "CD3_TotalSeqB            ^NNNNNNNNNN(BC)NNNNNNNNN   R2  AACAAGACCCTTGAG   \n",
       "CD4_TotalSeqB            ^NNNNNNNNNN(BC)NNNNNNNNN   R2  TACCCGTAATAGCGT   \n",
       "CD8a_TotalSeqB           ^NNNNNNNNNN(BC)NNNNNNNNN   R2  ATTGGCACTCAGATG   \n",
       "CD14_TotalSeqB           ^NNNNNNNNNN(BC)NNNNNNNNN   R2  GAAAGTCAAAGCACT   \n",
       "CD15_TotalSeqB           ^NNNNNNNNNN(BC)NNNNNNNNN   R2  ACGAATCAATCTGTG   \n",
       "CD16_TotalSeqB           ^NNNNNNNNNN(BC)NNNNNNNNN   R2  GTCTTTGTCAGTGCA   \n",
       "CD56_TotalSeqB           ^NNNNNNNNNN(BC)NNNNNNNNN   R2  GTTGTCCGACAATAC   \n",
       "CD19_TotalSeqB           ^NNNNNNNNNN(BC)NNNNNNNNN   R2  TCAACGCTTGGCTAG   \n",
       "CD25_TotalSeqB           ^NNNNNNNNNN(BC)NNNNNNNNN   R2  GTGCATTCAACAGTA   \n",
       "CD45RA_TotalSeqB         ^NNNNNNNNNN(BC)NNNNNNNNN   R2  GATGAGAACAGGTTT   \n",
       "CD45RO_TotalSeqB         ^NNNNNNNNNN(BC)NNNNNNNNN   R2  TGCATGTCATCGGTG   \n",
       "PD-1_TotalSeqB           ^NNNNNNNNNN(BC)NNNNNNNNN   R2  AAGTCGTGAGGCATG   \n",
       "TIGIT_TotalSeqB          ^NNNNNNNNNN(BC)NNNNNNNNN   R2  TGAAGGCTCATTTGT   \n",
       "CD127_TotalSeqB          ^NNNNNNNNNN(BC)NNNNNNNNN   R2  ACATTGACGCAACTA   \n",
       "IgG2a_control_TotalSeqB  ^NNNNNNNNNN(BC)NNNNNNNNN   R2  CTCTATTCAGACCAG   \n",
       "IgG1_control_TotalSeqB   ^NNNNNNNNNN(BC)NNNNNNNNN   R2  ACTCACTGGAGTCTC   \n",
       "IgG2b_control_TotalSeqB  ^NNNNNNNNNN(BC)NNNNNNNNN   R2  ATCACATCGTTGCCA   \n",
       "\n",
       "                           n_counts  \n",
       "CD3_TotalSeqB            10826011.0  \n",
       "CD4_TotalSeqB            10043849.0  \n",
       "CD8a_TotalSeqB            8009552.0  \n",
       "CD14_TotalSeqB            4112917.0  \n",
       "CD15_TotalSeqB            8797653.0  \n",
       "CD16_TotalSeqB            9301829.0  \n",
       "CD56_TotalSeqB            1463992.0  \n",
       "CD19_TotalSeqB             730998.0  \n",
       "CD25_TotalSeqB             743054.0  \n",
       "CD45RA_TotalSeqB         15976956.0  \n",
       "CD45RO_TotalSeqB          4076391.0  \n",
       "PD-1_TotalSeqB            1148951.0  \n",
       "TIGIT_TotalSeqB            525618.0  \n",
       "CD127_TotalSeqB           1248641.0  \n",
       "IgG2a_control_TotalSeqB    393620.0  \n",
       "IgG1_control_TotalSeqB     541268.0  \n",
       "IgG2b_control_TotalSeqB    237996.0  "
      ]
     },
     "execution_count": 8,
     "metadata": {},
     "output_type": "execute_result"
    }
   ],
   "source": [
    "protein.var"
   ]
  },
  {
   "cell_type": "code",
   "execution_count": 9,
   "metadata": {},
   "outputs": [
    {
     "data": {
      "text/html": [
       "<div>\n",
       "<style scoped>\n",
       "    .dataframe tbody tr th:only-of-type {\n",
       "        vertical-align: middle;\n",
       "    }\n",
       "\n",
       "    .dataframe tbody tr th {\n",
       "        vertical-align: top;\n",
       "    }\n",
       "\n",
       "    .dataframe thead th {\n",
       "        text-align: right;\n",
       "    }\n",
       "</style>\n",
       "<table border=\"1\" class=\"dataframe\">\n",
       "  <thead>\n",
       "    <tr style=\"text-align: right;\">\n",
       "      <th></th>\n",
       "      <th>gene_ids</th>\n",
       "      <th>feature_types</th>\n",
       "      <th>genome</th>\n",
       "      <th>pattern</th>\n",
       "      <th>read</th>\n",
       "      <th>sequence</th>\n",
       "      <th>n_counts</th>\n",
       "    </tr>\n",
       "  </thead>\n",
       "  <tbody>\n",
       "    <tr>\n",
       "      <th>AL627309.1</th>\n",
       "      <td>ENSG00000238009</td>\n",
       "      <td>Gene Expression</td>\n",
       "      <td>GRCh38</td>\n",
       "      <td></td>\n",
       "      <td></td>\n",
       "      <td></td>\n",
       "      <td>14.0</td>\n",
       "    </tr>\n",
       "    <tr>\n",
       "      <th>AL669831.5</th>\n",
       "      <td>ENSG00000237491</td>\n",
       "      <td>Gene Expression</td>\n",
       "      <td>GRCh38</td>\n",
       "      <td></td>\n",
       "      <td></td>\n",
       "      <td></td>\n",
       "      <td>509.0</td>\n",
       "    </tr>\n",
       "    <tr>\n",
       "      <th>LINC00115</th>\n",
       "      <td>ENSG00000225880</td>\n",
       "      <td>Gene Expression</td>\n",
       "      <td>GRCh38</td>\n",
       "      <td></td>\n",
       "      <td></td>\n",
       "      <td></td>\n",
       "      <td>197.0</td>\n",
       "    </tr>\n",
       "    <tr>\n",
       "      <th>FAM41C</th>\n",
       "      <td>ENSG00000230368</td>\n",
       "      <td>Gene Expression</td>\n",
       "      <td>GRCh38</td>\n",
       "      <td></td>\n",
       "      <td></td>\n",
       "      <td></td>\n",
       "      <td>330.0</td>\n",
       "    </tr>\n",
       "    <tr>\n",
       "      <th>NOC2L</th>\n",
       "      <td>ENSG00000188976</td>\n",
       "      <td>Gene Expression</td>\n",
       "      <td>GRCh38</td>\n",
       "      <td></td>\n",
       "      <td></td>\n",
       "      <td></td>\n",
       "      <td>2037.0</td>\n",
       "    </tr>\n",
       "    <tr>\n",
       "      <th>...</th>\n",
       "      <td>...</td>\n",
       "      <td>...</td>\n",
       "      <td>...</td>\n",
       "      <td>...</td>\n",
       "      <td>...</td>\n",
       "      <td>...</td>\n",
       "      <td>...</td>\n",
       "    </tr>\n",
       "    <tr>\n",
       "      <th>AC007325.4</th>\n",
       "      <td>ENSG00000278817</td>\n",
       "      <td>Gene Expression</td>\n",
       "      <td>GRCh38</td>\n",
       "      <td></td>\n",
       "      <td></td>\n",
       "      <td></td>\n",
       "      <td>61.0</td>\n",
       "    </tr>\n",
       "    <tr>\n",
       "      <th>AL354822.1</th>\n",
       "      <td>ENSG00000278384</td>\n",
       "      <td>Gene Expression</td>\n",
       "      <td>GRCh38</td>\n",
       "      <td></td>\n",
       "      <td></td>\n",
       "      <td></td>\n",
       "      <td>31.0</td>\n",
       "    </tr>\n",
       "    <tr>\n",
       "      <th>AC004556.1</th>\n",
       "      <td>ENSG00000276345</td>\n",
       "      <td>Gene Expression</td>\n",
       "      <td>GRCh38</td>\n",
       "      <td></td>\n",
       "      <td></td>\n",
       "      <td></td>\n",
       "      <td>1565.0</td>\n",
       "    </tr>\n",
       "    <tr>\n",
       "      <th>AC233755.1</th>\n",
       "      <td>ENSG00000275063</td>\n",
       "      <td>Gene Expression</td>\n",
       "      <td>GRCh38</td>\n",
       "      <td></td>\n",
       "      <td></td>\n",
       "      <td></td>\n",
       "      <td>13.0</td>\n",
       "    </tr>\n",
       "    <tr>\n",
       "      <th>AC240274.1</th>\n",
       "      <td>ENSG00000271254</td>\n",
       "      <td>Gene Expression</td>\n",
       "      <td>GRCh38</td>\n",
       "      <td></td>\n",
       "      <td></td>\n",
       "      <td></td>\n",
       "      <td>50.0</td>\n",
       "    </tr>\n",
       "  </tbody>\n",
       "</table>\n",
       "<p>15972 rows × 7 columns</p>\n",
       "</div>"
      ],
      "text/plain": [
       "                   gene_ids    feature_types  genome pattern read sequence  \\\n",
       "AL627309.1  ENSG00000238009  Gene Expression  GRCh38                         \n",
       "AL669831.5  ENSG00000237491  Gene Expression  GRCh38                         \n",
       "LINC00115   ENSG00000225880  Gene Expression  GRCh38                         \n",
       "FAM41C      ENSG00000230368  Gene Expression  GRCh38                         \n",
       "NOC2L       ENSG00000188976  Gene Expression  GRCh38                         \n",
       "...                     ...              ...     ...     ...  ...      ...   \n",
       "AC007325.4  ENSG00000278817  Gene Expression  GRCh38                         \n",
       "AL354822.1  ENSG00000278384  Gene Expression  GRCh38                         \n",
       "AC004556.1  ENSG00000276345  Gene Expression  GRCh38                         \n",
       "AC233755.1  ENSG00000275063  Gene Expression  GRCh38                         \n",
       "AC240274.1  ENSG00000271254  Gene Expression  GRCh38                         \n",
       "\n",
       "            n_counts  \n",
       "AL627309.1      14.0  \n",
       "AL669831.5     509.0  \n",
       "LINC00115      197.0  \n",
       "FAM41C         330.0  \n",
       "NOC2L         2037.0  \n",
       "...              ...  \n",
       "AC007325.4      61.0  \n",
       "AL354822.1      31.0  \n",
       "AC004556.1    1565.0  \n",
       "AC233755.1      13.0  \n",
       "AC240274.1      50.0  \n",
       "\n",
       "[15972 rows x 7 columns]"
      ]
     },
     "execution_count": 9,
     "metadata": {},
     "output_type": "execute_result"
    }
   ],
   "source": [
    "rna.var"
   ]
  },
  {
   "cell_type": "code",
   "execution_count": 10,
   "metadata": {},
   "outputs": [
    {
     "data": {
      "text/plain": [
       "(80773, 15989)"
      ]
     },
     "execution_count": 10,
     "metadata": {},
     "output_type": "execute_result"
    }
   ],
   "source": [
    "adata_small.shape"
   ]
  },
  {
   "cell_type": "code",
   "execution_count": 11,
   "metadata": {},
   "outputs": [
    {
     "data": {
      "text/plain": [
       "(80773, 15972)"
      ]
     },
     "execution_count": 11,
     "metadata": {},
     "output_type": "execute_result"
    }
   ],
   "source": [
    "rna.shape"
   ]
  },
  {
   "cell_type": "code",
   "execution_count": 12,
   "metadata": {},
   "outputs": [
    {
     "data": {
      "text/plain": [
       "(80773, 17)"
      ]
     },
     "execution_count": 12,
     "metadata": {},
     "output_type": "execute_result"
    }
   ],
   "source": [
    "protein.shape"
   ]
  },
  {
   "cell_type": "markdown",
   "metadata": {},
   "source": [
    "Normalization seems unnecessary, quality control as well since we're doing interpolation cell-by-cell, and not across different cells."
   ]
  },
  {
   "cell_type": "code",
   "execution_count": 13,
   "metadata": {},
   "outputs": [],
   "source": [
    "# 1) Split into train/test and format as Torch Tensors\n",
    "# can validate the cells are the same for x, y via matching barcodes\n",
    "# 2) Run via standard methods"
   ]
  },
  {
   "cell_type": "code",
   "execution_count": 14,
   "metadata": {},
   "outputs": [],
   "source": [
    "gex_train = rna[:60000, :].copy()\n",
    "gex_test = rna[60000:, :].copy()\n",
    "\n",
    "adx_train = protein[:60000, :].copy()\n",
    "adx_test = protein[60000:, :].copy()"
   ]
  },
  {
   "cell_type": "code",
   "execution_count": 15,
   "metadata": {},
   "outputs": [
    {
     "data": {
      "text/plain": [
       "AnnData object with n_obs × n_vars = 60000 × 15972\n",
       "    obs: 'n_counts'\n",
       "    var: 'gene_ids', 'feature_types', 'genome', 'pattern', 'read', 'sequence', 'n_counts'\n",
       "    layers: 'counts'"
      ]
     },
     "execution_count": 15,
     "metadata": {},
     "output_type": "execute_result"
    }
   ],
   "source": [
    "gex_train"
   ]
  },
  {
   "cell_type": "code",
   "execution_count": 16,
   "metadata": {},
   "outputs": [
    {
     "name": "stdout",
     "output_type": "stream",
     "text": [
      "Looks good!\n"
     ]
    }
   ],
   "source": [
    "# Validate via barcodes & convert to tensors  \n",
    "if (gex_train.obs.index.tolist() == adx_train.obs.index.tolist()) and (gex_test.obs.index.tolist() == adx_test.obs.index.tolist()):\n",
    "    print(\"Looks good!\") \n",
    "else:\n",
    "    print(\"Error!\")\n",
    "# protein.obs.index.to_list() == rna.obs.index.to_list() "
   ]
  },
  {
   "cell_type": "code",
   "execution_count": 17,
   "metadata": {},
   "outputs": [],
   "source": [
    "# TODO: Convert the counts etc to PyTorch tensors\n",
    "def counts_to_tensor(data: ad.AnnData):\n",
    "    counts_matrix = data.layers['counts'].toarray()\n",
    "    counts_tensor = torch.tensor(counts_matrix, dtype=torch.float32)\n",
    "    return counts_tensor"
   ]
  },
  {
   "cell_type": "code",
   "execution_count": 18,
   "metadata": {},
   "outputs": [],
   "source": [
    "x_train = counts_to_tensor(gex_train)\n",
    "x_test = counts_to_tensor(gex_test)\n",
    "\n",
    "y_train = counts_to_tensor(adx_train)\n",
    "y_test = counts_to_tensor(adx_test)"
   ]
  },
  {
   "cell_type": "code",
   "execution_count": 32,
   "metadata": {},
   "outputs": [],
   "source": [
    "# Create TensorDataset and DataLoader\n",
    "train_dataset = TensorDataset(x_train, y_train)\n",
    "test_dataset = TensorDataset(x_test, y_test)\n",
    "\n",
    "train_loader = DataLoader(train_dataset, batch_size=64, shuffle=True)\n",
    "test_loader = DataLoader(test_dataset, batch_size=64, shuffle=False)"
   ]
  },
  {
   "cell_type": "code",
   "execution_count": 21,
   "metadata": {},
   "outputs": [
    {
     "name": "stdout",
     "output_type": "stream",
     "text": [
      "Installed DANCE version 1.0.1-dev\n"
     ]
    }
   ],
   "source": [
    "# Trying some different models --> see main.py\n",
    "# 1) Generic Models\n",
    "# 2) Specialized methods via the Dance package (currently not working, see note below)\n",
    "# https://github.com/OmicsML/dance-tutorials/blob/main/dance_tutorial.ipynb"
   ]
  },
  {
   "cell_type": "code",
   "execution_count": 33,
   "metadata": {},
   "outputs": [],
   "source": [
    "# NOTE: Babel is no good, the team is fixing the bugs making it unusable right now, try again in a week: https://discuss.dgl.ai/t/cannot-find-dgl-c-graphbolt-library/4429/12\n",
    "# import os\n",
    "# os.environ[\"DGLBACKEND\"] = \"pytorch\"\n",
    "# from pprint import pprint\n",
    "# from dance.modules.multi_modality.predict_modality.babel import BabelWrapper"
   ]
  },
  {
   "cell_type": "code",
   "execution_count": 43,
   "metadata": {},
   "outputs": [],
   "source": [
    "input_size = rna.n_vars         # Number of unique rna molecules\n",
    "hidden_size = 128               # Hyper-parameter\n",
    "output_size = protein.n_vars    # Number of unique proteins\n"
   ]
  },
  {
   "cell_type": "code",
   "execution_count": 44,
   "metadata": {},
   "outputs": [],
   "source": [
    "# 1) FFNN\n",
    "from models import FeedforwardNN \n",
    "import torch.nn as nn\n",
    "import torch.optim as optim\n",
    "\n",
    "model = FeedforwardNN(input_size, hidden_size, output_size)\n",
    "\n",
    "criterion = nn.MSELoss()  # Use nn.CrossEntropyLoss() for classification\n",
    "optimizer = optim.Adam(model.parameters(), lr=0.001)"
   ]
  },
  {
   "cell_type": "code",
   "execution_count": 45,
   "metadata": {},
   "outputs": [
    {
     "name": "stdout",
     "output_type": "stream",
     "text": [
      "INTEL MKL ERROR: /home/dennis/miniconda3/envs/compbio/lib/python3.10/site-packages/torch/lib/../../../../libmkl_avx2.so.2: undefined symbol: mkl_sparse_optimize_csr_sorv_i8.\n",
      "Intel MKL FATAL ERROR: Cannot load libmkl_avx2.so.2 or libmkl_def.so.2.\n"
     ]
    },
    {
     "ename": "",
     "evalue": "",
     "output_type": "error",
     "traceback": [
      "\u001b[1;31mThe Kernel crashed while executing code in the current cell or a previous cell. \n",
      "\u001b[1;31mPlease review the code in the cell(s) to identify a possible cause of the failure. \n",
      "\u001b[1;31mClick <a href='https://aka.ms/vscodeJupyterKernelCrash'>here</a> for more info. \n",
      "\u001b[1;31mView Jupyter <a href='command:jupyter.viewOutput'>log</a> for further details."
     ]
    }
   ],
   "source": [
    "num_epochs = 100  # Adjust as needed\n",
    "\n",
    "for epoch in range(num_epochs):\n",
    "    model.train()\n",
    "    running_loss = 0.0\n",
    "    for i, (inputs, targets) in enumerate(train_loader):\n",
    "        optimizer.zero_grad()\n",
    "        outputs = model(inputs)\n",
    "        loss = criterion(outputs, targets)\n",
    "        loss.backward()\n",
    "        optimizer.step()\n",
    "        running_loss += loss.item()\n",
    "    \n",
    "    print(f\"Epoch [{epoch+1}/{num_epochs}], Loss: {running_loss/len(train_loader):.4f}\")\n"
   ]
  },
  {
   "cell_type": "code",
   "execution_count": null,
   "metadata": {},
   "outputs": [],
   "source": [
    "model.eval()\n",
    "with torch.no_grad():\n",
    "    test_loss = 0.0\n",
    "    for inputs, targets in test_loader:\n",
    "        outputs = model(inputs)\n",
    "        loss = criterion(outputs, targets)\n",
    "        test_loss += loss.item()\n",
    "    \n",
    "    print(f\"Test Loss: {test_loss/len(test_loader):.4f}\")\n"
   ]
  }
 ],
 "metadata": {
  "kernelspec": {
   "display_name": "compbio",
   "language": "python",
   "name": "python3"
  },
  "language_info": {
   "codemirror_mode": {
    "name": "ipython",
    "version": 3
   },
   "file_extension": ".py",
   "mimetype": "text/x-python",
   "name": "python",
   "nbconvert_exporter": "python",
   "pygments_lexer": "ipython3",
   "version": "3.10.14"
  }
 },
 "nbformat": 4,
 "nbformat_minor": 2
}
