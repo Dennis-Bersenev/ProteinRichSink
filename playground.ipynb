{
 "cells": [
  {
   "cell_type": "code",
   "execution_count": 1,
   "metadata": {},
   "outputs": [],
   "source": [
    "import scanpy as sc"
   ]
  },
  {
   "cell_type": "code",
   "execution_count": 11,
   "metadata": {},
   "outputs": [
    {
     "name": "stderr",
     "output_type": "stream",
     "text": [
      "/home/dennis/miniconda3/envs/compbio/lib/python3.10/site-packages/anndata/_core/anndata.py:1820: UserWarning: Variable names are not unique. To make them unique, call `.var_names_make_unique`.\n",
      "  utils.warn_names_duplicates(\"var\")\n"
     ]
    }
   ],
   "source": [
    "# data_full = 'data/GSE194122_openproblems_neurips2021_cite_BMMC_processed.h5ad'\n",
    "# # Load the dataset into Scanpy using the backup_url argument\n",
    "# adata_full = sc.read_h5ad(data_full)\n",
    "# adata_full"
   ]
  },
  {
   "cell_type": "code",
   "execution_count": 12,
   "metadata": {},
   "outputs": [
    {
     "name": "stderr",
     "output_type": "stream",
     "text": [
      "/home/dennis/miniconda3/envs/compbio/lib/python3.10/site-packages/anndata/_core/anndata.py:1820: UserWarning: Variable names are not unique. To make them unique, call `.var_names_make_unique`.\n",
      "  utils.warn_names_duplicates(\"var\")\n"
     ]
    }
   ],
   "source": [
    "data_small = \"data/pbmc_10k_protein_v3_raw_feature_bc_matrix.h5\"\n",
    "adata_small = sc.read_10x_h5(data_small, genome=None, gex_only=False, backup_url=None)"
   ]
  },
  {
   "cell_type": "code",
   "execution_count": 33,
   "metadata": {},
   "outputs": [
    {
     "data": {
      "text/html": [
       "<div>\n",
       "<style scoped>\n",
       "    .dataframe tbody tr th:only-of-type {\n",
       "        vertical-align: middle;\n",
       "    }\n",
       "\n",
       "    .dataframe tbody tr th {\n",
       "        vertical-align: top;\n",
       "    }\n",
       "\n",
       "    .dataframe thead th {\n",
       "        text-align: right;\n",
       "    }\n",
       "</style>\n",
       "<table border=\"1\" class=\"dataframe\">\n",
       "  <thead>\n",
       "    <tr style=\"text-align: right;\">\n",
       "      <th></th>\n",
       "      <th>feature_types</th>\n",
       "      <th>gene_id</th>\n",
       "    </tr>\n",
       "  </thead>\n",
       "  <tbody>\n",
       "    <tr>\n",
       "      <th>AL627309.5</th>\n",
       "      <td>GEX</td>\n",
       "      <td>ENSG00000241860</td>\n",
       "    </tr>\n",
       "    <tr>\n",
       "      <th>LINC01409</th>\n",
       "      <td>GEX</td>\n",
       "      <td>ENSG00000237491</td>\n",
       "    </tr>\n",
       "    <tr>\n",
       "      <th>LINC01128</th>\n",
       "      <td>GEX</td>\n",
       "      <td>ENSG00000228794</td>\n",
       "    </tr>\n",
       "    <tr>\n",
       "      <th>LINC00115</th>\n",
       "      <td>GEX</td>\n",
       "      <td>ENSG00000225880</td>\n",
       "    </tr>\n",
       "    <tr>\n",
       "      <th>FAM41C</th>\n",
       "      <td>GEX</td>\n",
       "      <td>ENSG00000230368</td>\n",
       "    </tr>\n",
       "    <tr>\n",
       "      <th>...</th>\n",
       "      <td>...</td>\n",
       "      <td>...</td>\n",
       "    </tr>\n",
       "    <tr>\n",
       "      <th>HLA-E</th>\n",
       "      <td>ADT</td>\n",
       "      <td>ENSG00000204592</td>\n",
       "    </tr>\n",
       "    <tr>\n",
       "      <th>CD82</th>\n",
       "      <td>ADT</td>\n",
       "      <td>ENSG00000085117</td>\n",
       "    </tr>\n",
       "    <tr>\n",
       "      <th>CD101</th>\n",
       "      <td>ADT</td>\n",
       "      <td>ENSG00000134256</td>\n",
       "    </tr>\n",
       "    <tr>\n",
       "      <th>CD88</th>\n",
       "      <td>ADT</td>\n",
       "      <td>NaN</td>\n",
       "    </tr>\n",
       "    <tr>\n",
       "      <th>CD224</th>\n",
       "      <td>ADT</td>\n",
       "      <td>NaN</td>\n",
       "    </tr>\n",
       "  </tbody>\n",
       "</table>\n",
       "<p>14087 rows × 2 columns</p>\n",
       "</div>"
      ],
      "text/plain": [
       "           feature_types          gene_id\n",
       "AL627309.5           GEX  ENSG00000241860\n",
       "LINC01409            GEX  ENSG00000237491\n",
       "LINC01128            GEX  ENSG00000228794\n",
       "LINC00115            GEX  ENSG00000225880\n",
       "FAM41C               GEX  ENSG00000230368\n",
       "...                  ...              ...\n",
       "HLA-E                ADT  ENSG00000204592\n",
       "CD82                 ADT  ENSG00000085117\n",
       "CD101                ADT  ENSG00000134256\n",
       "CD88                 ADT              NaN\n",
       "CD224                ADT              NaN\n",
       "\n",
       "[14087 rows x 2 columns]"
      ]
     },
     "execution_count": 33,
     "metadata": {},
     "output_type": "execute_result"
    }
   ],
   "source": [
    "# So what I really want is all the antibodies measured in each cell\n",
    "# Then I take the gene expression of that cell and use it to predict the antibody profile (and vice versa)"
   ]
  },
  {
   "cell_type": "code",
   "execution_count": 37,
   "metadata": {},
   "outputs": [
    {
     "data": {
      "text/plain": [
       "AnnData object with n_obs × n_vars = 6794880 × 22070\n",
       "    var: 'gene_ids', 'feature_types', 'genome', 'pattern', 'read', 'sequence', 'n_counts'\n",
       "    layers: 'counts'"
      ]
     },
     "execution_count": 37,
     "metadata": {},
     "output_type": "execute_result"
    }
   ],
   "source": [
    "adata_small.var_names_make_unique()\n",
    "adata_small.layers[\"counts\"] = adata_small.X.copy()\n",
    "sc.pp.filter_genes(adata_small, min_counts=1)\n",
    "adata_small"
   ]
  },
  {
   "cell_type": "code",
   "execution_count": 38,
   "metadata": {},
   "outputs": [
    {
     "data": {
      "text/plain": [
       "feature_types\n",
       "Gene Expression     22053\n",
       "Antibody Capture       17\n",
       "Name: count, dtype: int64"
      ]
     },
     "execution_count": 38,
     "metadata": {},
     "output_type": "execute_result"
    }
   ],
   "source": [
    "adata_small.var[\"feature_types\"].value_counts()\n",
    "# The number of unique genes/antibodies in the dataset."
   ]
  },
  {
   "cell_type": "code",
   "execution_count": 39,
   "metadata": {},
   "outputs": [],
   "source": [
    "protein = adata_small[:, adata_small.var[\"feature_types\"] == \"Antibody Capture\"].copy()\n",
    "rna = adata_small[:, adata_small.var[\"feature_types\"] == \"Gene Expression\"].copy()"
   ]
  },
  {
   "cell_type": "code",
   "execution_count": 42,
   "metadata": {},
   "outputs": [
    {
     "data": {
      "text/plain": [
       "(6794880, 22070)"
      ]
     },
     "execution_count": 42,
     "metadata": {},
     "output_type": "execute_result"
    }
   ],
   "source": [
    "adata_small.shape"
   ]
  },
  {
   "cell_type": "code",
   "execution_count": 43,
   "metadata": {},
   "outputs": [
    {
     "data": {
      "text/plain": [
       "(6794880, 22053)"
      ]
     },
     "execution_count": 43,
     "metadata": {},
     "output_type": "execute_result"
    }
   ],
   "source": [
    "rna.shape"
   ]
  },
  {
   "cell_type": "code",
   "execution_count": 44,
   "metadata": {},
   "outputs": [
    {
     "data": {
      "text/plain": [
       "(6794880, 17)"
      ]
     },
     "execution_count": 44,
     "metadata": {},
     "output_type": "execute_result"
    }
   ],
   "source": [
    "protein.shape"
   ]
  }
 ],
 "metadata": {
  "kernelspec": {
   "display_name": "compbio",
   "language": "python",
   "name": "python3"
  },
  "language_info": {
   "codemirror_mode": {
    "name": "ipython",
    "version": 3
   },
   "file_extension": ".py",
   "mimetype": "text/x-python",
   "name": "python",
   "nbconvert_exporter": "python",
   "pygments_lexer": "ipython3",
   "version": "3.10.14"
  }
 },
 "nbformat": 4,
 "nbformat_minor": 2
}
