{
 "cells": [
  {
   "cell_type": "code",
   "execution_count": 1,
   "metadata": {},
   "outputs": [
    {
     "name": "stderr",
     "output_type": "stream",
     "text": [
      "/home/dennis/.local/lib/python3.10/site-packages/tqdm/auto.py:21: TqdmWarning: IProgress not found. Please update jupyter and ipywidgets. See https://ipywidgets.readthedocs.io/en/stable/user_install.html\n",
      "  from .autonotebook import tqdm as notebook_tqdm\n"
     ]
    }
   ],
   "source": [
    "import scanpy as sc\n",
    "import torch\n",
    "import anndata as ad\n",
    "from torch.utils.data import DataLoader, TensorDataset\n",
    "import numpy as np\n",
    "from utils import * \n",
    "from models import MLP, MLPWithSinkhorn\n",
    "import torch.nn as nn\n",
    "import torch.optim as optim\n",
    "import argparse\n",
    "import math\n",
    "import matplotlib.pyplot as plt\n",
    "import muon "
   ]
  },
  {
   "cell_type": "code",
   "execution_count": 2,
   "metadata": {},
   "outputs": [
    {
     "name": "stderr",
     "output_type": "stream",
     "text": [
      "/home/dennis/miniconda3/envs/compbioML/lib/python3.10/site-packages/anndata/_core/anndata.py:1820: UserWarning: Variable names are not unique. To make them unique, call `.var_names_make_unique`.\n",
      "  utils.warn_names_duplicates(\"var\")\n",
      "/home/dennis/miniconda3/envs/compbioML/lib/python3.10/site-packages/scanpy/preprocessing/_simple.py:405: UserWarning: Received a view of an AnnData. Making a copy.\n",
      "  view_to_actual(adata)\n"
     ]
    },
    {
     "name": "stdout",
     "output_type": "stream",
     "text": [
      "Normalized RNA array shape: (10377, 300)\n",
      "Normalized Protein array shape: (10377, 17)\n",
      "Original RNA shape: (10377, 11254)\n",
      "Original Protein shape: (10377, 17)\n"
     ]
    },
    {
     "name": "stderr",
     "output_type": "stream",
     "text": [
      "/home/dennis/miniconda3/envs/compbioML/lib/python3.10/site-packages/muon/_prot/preproc.py:219: UserWarning: adata.X is sparse but not in CSC format. Converting to CSC.\n",
      "  warn(\"adata.X is sparse but not in CSC format. Converting to CSC.\")\n"
     ]
    }
   ],
   "source": [
    "data = \"data/pbmc_10k_protein_v3_raw_feature_bc_matrix.h5\"\n",
    "adata = sc.read_10x_h5(data, genome=None, gex_only=False, backup_url=None)\n",
    "\n",
    "adata.var_names_make_unique()\n",
    "adata.layers[\"counts\"] = adata.X.copy()\n",
    "sc.pp.filter_genes(adata, min_counts=100) # number of times that RNA is present in the dataset\n",
    "sc.pp.filter_cells(adata, min_counts=500) # number of biomolecules in each cell\n",
    "\n",
    "protein = adata[:, adata.var[\"feature_types\"] == \"Antibody Capture\"].copy()\n",
    "rna = adata[:, adata.var[\"feature_types\"] == \"Gene Expression\"].copy()\n",
    "# Filtering cells not expressing both types of biomolecules\n",
    "sc.pp.filter_cells(rna, min_counts=1)\n",
    "sc.pp.filter_cells(protein, min_counts=1)\n",
    "common_cells = protein.obs_names.intersection(rna.obs_names)\n",
    "protein = protein[common_cells, :]\n",
    "rna = rna[common_cells, :]\n",
    "\n",
    "# Doing normalization and SVD steps\n",
    "sc.pp.log1p(rna)\n",
    "rna_norm = zscore_normalization_and_svd(rna.X.toarray(), n_components=300) # Same as ScLinear authors\n",
    "muon.prot.pp.clr(protein)\n",
    "protein_norm = protein.X.toarray()\n",
    "\n",
    "# 80/20 split rule\n",
    "split = math.ceil(rna_norm.shape[0] * 0.8)\n",
    "validation_split = math.ceil(rna_norm.shape[0] * 0.95)\n",
    "gex_train = rna_norm[:split, :]\n",
    "gex_test = rna_norm[split:validation_split, :]\n",
    "gex_valid =  rna_norm[validation_split:, :]\n",
    "\n",
    "adx_train = protein_norm[:split, :]\n",
    "adx_test = protein_norm[split:validation_split, :]\n",
    "adx_valid = protein_norm[validation_split:, :]\n",
    "print(f'Normalized RNA array shape: {rna_norm.shape}')\n",
    "print(f'Normalized Protein array shape: {protein_norm.shape}')\n",
    "print(f'Original RNA shape: {rna.X.shape}')\n",
    "print(f'Original Protein shape: {protein.X.shape}')"
   ]
  },
  {
   "cell_type": "code",
   "execution_count": 40,
   "metadata": {},
   "outputs": [
    {
     "data": {
      "text/plain": [
       "array([[0.28033075],\n",
       "       [2.1909363 ],\n",
       "       [2.155962  ],\n",
       "       ...,\n",
       "       [2.7864826 ],\n",
       "       [0.30448335],\n",
       "       [0.4172013 ]], dtype=float32)"
      ]
     },
     "execution_count": 40,
     "metadata": {},
     "output_type": "execute_result"
    }
   ],
   "source": [
    "protein[:,3].X.toarray()"
   ]
  },
  {
   "cell_type": "code",
   "execution_count": 24,
   "metadata": {},
   "outputs": [
    {
     "data": {
      "text/plain": [
       "Index(['CD3_TotalSeqB', 'CD4_TotalSeqB', 'CD8a_TotalSeqB', 'CD14_TotalSeqB',\n",
       "       'CD15_TotalSeqB', 'CD16_TotalSeqB', 'CD56_TotalSeqB', 'CD19_TotalSeqB',\n",
       "       'CD25_TotalSeqB', 'CD45RA_TotalSeqB', 'CD45RO_TotalSeqB',\n",
       "       'PD-1_TotalSeqB', 'TIGIT_TotalSeqB', 'CD127_TotalSeqB',\n",
       "       'IgG2a_control_TotalSeqB', 'IgG1_control_TotalSeqB',\n",
       "       'IgG2b_control_TotalSeqB'],\n",
       "      dtype='object')"
      ]
     },
     "execution_count": 24,
     "metadata": {},
     "output_type": "execute_result"
    }
   ],
   "source": [
    "protein.var_names"
   ]
  },
  {
   "cell_type": "code",
   "execution_count": 39,
   "metadata": {},
   "outputs": [
    {
     "data": {
      "text/plain": [
       "array([[0.28033075],\n",
       "       [2.1909363 ],\n",
       "       [2.155962  ],\n",
       "       ...,\n",
       "       [2.7864826 ],\n",
       "       [0.30448335],\n",
       "       [0.4172013 ]], dtype=float32)"
      ]
     },
     "execution_count": 39,
     "metadata": {},
     "output_type": "execute_result"
    }
   ],
   "source": [
    "protein[:,'CD14_TotalSeqB'].X.toarray()"
   ]
  },
  {
   "cell_type": "code",
   "execution_count": 42,
   "metadata": {},
   "outputs": [
    {
     "data": {
      "text/plain": [
       "list"
      ]
     },
     "execution_count": 42,
     "metadata": {},
     "output_type": "execute_result"
    }
   ],
   "source": [
    "result = [item.split('_')[0] for item in protein.var_names]\n",
    "\n",
    "result\n"
   ]
  },
  {
   "cell_type": "code",
   "execution_count": null,
   "metadata": {},
   "outputs": [],
   "source": [
    "# Trying some different models --> see main.py\n",
    "# 1) Generic Models\n",
    "# 2) Specialized methods via the Dance package (currently not working, see note below)\n",
    "# https://github.com/OmicsML/dance-tutorials/blob/main/dance_tutorial.ipynb"
   ]
  },
  {
   "cell_type": "code",
   "execution_count": null,
   "metadata": {},
   "outputs": [],
   "source": [
    "# NOTE: Babel is no good, the team is fixing the bugs making it unusable right now, try again in a week: https://discuss.dgl.ai/t/cannot-find-dgl-c-graphbolt-library/4429/12\n",
    "# import os\n",
    "# os.environ[\"DGLBACKEND\"] = \"pytorch\"\n",
    "# from pprint import pprint\n",
    "# from dance.modules.multi_modality.predict_modality.babel import BabelWrapper"
   ]
  }
 ],
 "metadata": {
  "kernelspec": {
   "display_name": "compbio",
   "language": "python",
   "name": "python3"
  },
  "language_info": {
   "codemirror_mode": {
    "name": "ipython",
    "version": 3
   },
   "file_extension": ".py",
   "mimetype": "text/x-python",
   "name": "python",
   "nbconvert_exporter": "python",
   "pygments_lexer": "ipython3",
   "version": "3.10.14"
  }
 },
 "nbformat": 4,
 "nbformat_minor": 2
}
