{
 "cells": [
  {
   "cell_type": "code",
   "execution_count": 1,
   "metadata": {},
   "outputs": [],
   "source": [
    "import scanpy as sc\n",
    "import torch\n",
    "import anndata as ad\n",
    "from torch.utils.data import DataLoader, TensorDataset\n",
    "import numpy as np"
   ]
  },
  {
   "cell_type": "code",
   "execution_count": 2,
   "metadata": {},
   "outputs": [],
   "source": [
    "# data_full = 'data/GSE194122_openproblems_neurips2021_cite_BMMC_processed.h5ad'\n",
    "# # Load the dataset into Scanpy using the backup_url argument\n",
    "# adata_full = sc.read_h5ad(data_full)\n",
    "# adata_full"
   ]
  },
  {
   "cell_type": "code",
   "execution_count": 3,
   "metadata": {},
   "outputs": [
    {
     "name": "stderr",
     "output_type": "stream",
     "text": [
      "/home/dennis/miniconda3/envs/compbioML/lib/python3.10/site-packages/anndata/_core/anndata.py:1820: UserWarning: Variable names are not unique. To make them unique, call `.var_names_make_unique`.\n",
      "  utils.warn_names_duplicates(\"var\")\n"
     ]
    }
   ],
   "source": [
    "\n",
    "data_small = \"data/pbmc_10k_protein_v3_raw_feature_bc_matrix.h5\"\n",
    "adata_small = sc.read_10x_h5(data_small, genome=None, gex_only=False, backup_url=None)"
   ]
  },
  {
   "cell_type": "code",
   "execution_count": 4,
   "metadata": {},
   "outputs": [
    {
     "data": {
      "text/plain": [
       "AnnData object with n_obs × n_vars = 80773 × 15989\n",
       "    obs: 'n_counts'\n",
       "    var: 'gene_ids', 'feature_types', 'genome', 'pattern', 'read', 'sequence', 'n_counts'\n",
       "    layers: 'counts'"
      ]
     },
     "execution_count": 4,
     "metadata": {},
     "output_type": "execute_result"
    }
   ],
   "source": [
    "adata_small.var_names_make_unique()\n",
    "adata_small.layers[\"counts\"] = adata_small.X.copy()\n",
    "sc.pp.filter_genes(adata_small, min_counts=10) # number of times that RNA is present in the dataset\n",
    "sc.pp.filter_cells(adata_small, min_counts=100) # number of molecules in each cell (can be antibody or rna)\n",
    "adata_small"
   ]
  },
  {
   "cell_type": "markdown",
   "metadata": {},
   "source": [
    "How this data is structured:\n",
    "- Everything is in the counts matrix, where there are 15972 columns for the genes + 17 columns for the proteins\n",
    "- Entries are the number of biomolucules detected, where the row is the cell and columns tells you which gene/protein  "
   ]
  },
  {
   "cell_type": "code",
   "execution_count": 5,
   "metadata": {},
   "outputs": [
    {
     "data": {
      "text/plain": [
       "feature_types\n",
       "Gene Expression     15972\n",
       "Antibody Capture       17\n",
       "Name: count, dtype: int64"
      ]
     },
     "execution_count": 5,
     "metadata": {},
     "output_type": "execute_result"
    }
   ],
   "source": [
    "adata_small.var[\"feature_types\"].value_counts()\n",
    "# The number of unique genes/antibodies in the dataset."
   ]
  },
  {
   "cell_type": "code",
   "execution_count": 6,
   "metadata": {},
   "outputs": [],
   "source": [
    "protein = adata_small[:, adata_small.var[\"feature_types\"] == \"Antibody Capture\"].copy()\n",
    "rna = adata_small[:, adata_small.var[\"feature_types\"] == \"Gene Expression\"].copy()"
   ]
  },
  {
   "cell_type": "code",
   "execution_count": 7,
   "metadata": {},
   "outputs": [
    {
     "data": {
      "text/plain": [
       "0"
      ]
     },
     "execution_count": 7,
     "metadata": {},
     "output_type": "execute_result"
    }
   ],
   "source": [
    "np.sum(np.all(adata_small.X.toarray() < 0.01, axis=1))\n"
   ]
  },
  {
   "cell_type": "code",
   "execution_count": 8,
   "metadata": {},
   "outputs": [
    {
     "data": {
      "text/plain": [
       "598"
      ]
     },
     "execution_count": 8,
     "metadata": {},
     "output_type": "execute_result"
    }
   ],
   "source": [
    "# Number of cells with no proteins measured\n",
    "np.sum(np.all(protein.X.toarray() < 0.01, axis=1))"
   ]
  },
  {
   "cell_type": "code",
   "execution_count": 9,
   "metadata": {},
   "outputs": [
    {
     "data": {
      "text/plain": [
       "281"
      ]
     },
     "execution_count": 9,
     "metadata": {},
     "output_type": "execute_result"
    }
   ],
   "source": [
    "# Number of cells with no proteins measured\n",
    "np.sum(np.all(rna.X.toarray() < 0.01, axis=1))"
   ]
  },
  {
   "cell_type": "code",
   "execution_count": 10,
   "metadata": {},
   "outputs": [],
   "source": [
    "# Filtering cells not expressing both types of biomolecules\n",
    "sc.pp.filter_cells(rna, min_counts=1)\n",
    "sc.pp.filter_cells(protein, min_counts=1)"
   ]
  },
  {
   "cell_type": "code",
   "execution_count": 11,
   "metadata": {},
   "outputs": [],
   "source": [
    "common_cells = rna.obs_names.intersection(protein.obs_names)\n",
    "protein = protein[common_cells, :]\n",
    "rna = rna[common_cells, :]"
   ]
  },
  {
   "cell_type": "code",
   "execution_count": 12,
   "metadata": {},
   "outputs": [
    {
     "data": {
      "text/plain": [
       "<Compressed Sparse Row sparse matrix of dtype 'float32'\n",
       "\twith 13173648 stored elements and shape (79894, 15972)>"
      ]
     },
     "execution_count": 12,
     "metadata": {},
     "output_type": "execute_result"
    }
   ],
   "source": [
    "rna.X"
   ]
  },
  {
   "cell_type": "code",
   "execution_count": 13,
   "metadata": {},
   "outputs": [],
   "source": [
    "# Trying some different models --> see main.py\n",
    "# 1) Generic Models\n",
    "# 2) Specialized methods via the Dance package (currently not working, see note below)\n",
    "# https://github.com/OmicsML/dance-tutorials/blob/main/dance_tutorial.ipynb"
   ]
  },
  {
   "cell_type": "code",
   "execution_count": 14,
   "metadata": {},
   "outputs": [],
   "source": [
    "# NOTE: Babel is no good, the team is fixing the bugs making it unusable right now, try again in a week: https://discuss.dgl.ai/t/cannot-find-dgl-c-graphbolt-library/4429/12\n",
    "# import os\n",
    "# os.environ[\"DGLBACKEND\"] = \"pytorch\"\n",
    "# from pprint import pprint\n",
    "# from dance.modules.multi_modality.predict_modality.babel import BabelWrapper"
   ]
  }
 ],
 "metadata": {
  "kernelspec": {
   "display_name": "compbio",
   "language": "python",
   "name": "python3"
  },
  "language_info": {
   "codemirror_mode": {
    "name": "ipython",
    "version": 3
   },
   "file_extension": ".py",
   "mimetype": "text/x-python",
   "name": "python",
   "nbconvert_exporter": "python",
   "pygments_lexer": "ipython3",
   "version": "3.10.14"
  }
 },
 "nbformat": 4,
 "nbformat_minor": 2
}
